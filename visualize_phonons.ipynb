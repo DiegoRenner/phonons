{
 "cells": [
  {
   "cell_type": "markdown",
   "metadata": {},
   "source": [
    "#  Visualize Results"
   ]
  },
  {
   "cell_type": "code",
   "execution_count": 1,
   "metadata": {},
   "outputs": [],
   "source": [
    "%aiida\n",
    "from aiida import load_dbenv, is_dbenv_loaded\n",
    "from aiida.backends import settings\n",
    "if not is_dbenv_loaded():\n",
    "    load_dbenv(profile=settings.AIIDADB_PROFILE)\n",
    "\n",
    "from aiida.orm.code import Code\n",
    "from aiida.orm import load_node\n",
    "from aiida.orm import Code, Computer\n",
    "from aiida.orm.querybuilder import QueryBuilder\n",
    "from aiida.orm.data.base import Int, Float, Str, Bool\n",
    "from aiida.work.run import submit\n",
    "from aiida.orm.data.structure import StructureData\n",
    "\n",
    "import nglview\n",
    "import numpy as np\n",
    "import ipywidgets as ipw\n",
    "from collections import OrderedDict\n",
    "from IPython.display import display, clear_output, HTML\n",
    "import matplotlib.pyplot as plt\n",
    "from ase import Atoms\n",
    "from ase.io import read,write\n",
    "from ase.visualize import view\n",
    "from ase.data import vdw_radii\n",
    "\n",
    "\n",
    "from apps.surfaces.widgets import find_mol\n",
    "# Phonon specific import\n",
    "from apps.phonons.widgets.structure_browser import StructureBrowser\n",
    "from apps.phonons.widgets.viewer_details import ViewerDetails\n",
    "\n",
    "\n",
    "\n",
    "\n"
   ]
  },
  {
   "cell_type": "code",
   "execution_count": 2,
   "metadata": {},
   "outputs": [
    {
     "data": {
      "application/javascript": [
       "IPython.OutputArea.prototype._should_scroll = function(lines) {\n",
       "    return false;\n",
       "}"
      ],
      "text/plain": [
       "<IPython.core.display.Javascript object>"
      ]
     },
     "metadata": {},
     "output_type": "display_data"
    }
   ],
   "source": [
    "%%javascript\n",
    "IPython.OutputArea.prototype._should_scroll = function(lines) {\n",
    "    return false;\n",
    "}"
   ]
  },
  {
   "cell_type": "code",
   "execution_count": 3,
   "metadata": {},
   "outputs": [],
   "source": [
    "## GENERAL PARAMETERS"
   ]
  },
  {
   "cell_type": "code",
   "execution_count": 4,
   "metadata": {
    "scrolled": false
   },
   "outputs": [
    {
     "ename": "SyntaxError",
     "evalue": "invalid syntax (<ipython-input-4-fe021f6f8a9e>, line 6)",
     "output_type": "error",
     "traceback": [
      "\u001b[0;36m  File \u001b[0;32m\"<ipython-input-4-fe021f6f8a9e>\"\u001b[0;36m, line \u001b[0;32m6\u001b[0m\n\u001b[0;31m    print(node.inp.)\u001b[0m\n\u001b[0m                   ^\u001b[0m\n\u001b[0;31mSyntaxError\u001b[0m\u001b[0;31m:\u001b[0m invalid syntax\n"
     ]
    }
   ],
   "source": [
    "## WIDGETS MONITOR FUNCTIONS\n",
    "def on_mode_change(c):\n",
    "    modes = struct_browser.modes.value\n",
    "    if not modes == 'False':\n",
    "        node = struct_browser.results.value\n",
    "        file_path_mol = node.out.retrieved.folder.abspath + \"/path/aiida-VIBRATIONS-1.mol\"\n",
    "        file_path_xyz = node.inp.molslab_coords.get_file_abs_path()\n",
    "        atoms = read(file_path_xyz)\n",
    "        slab_analyzed = find_mol.analyze_slab(atoms)\n",
    "        viewer_widget.setup(file_path_mol,atoms,modes, details=slab_analyzed)\n",
    "    \n",
    "def set_modes(c):\n",
    "    file_path = struct_browser.results.value.out.retrieved.folder.abspath + \"/path/aiida-VIBRATIONS-1.mol\"\n",
    "    for line in reversed(open(file_path).readlines()):\n",
    "        if \"vibration\" in line:\n",
    "            break\n",
    "    line_array = [int(s) for s in line.split() if s.isdigit()]\n",
    "    last_mode = line_array[0]\n",
    "    \n",
    "    struct_browser.set_modes(max_modes=last_mode)\n",
    "\n",
    "\n",
    "\n"
   ]
  },
  {
   "cell_type": "code",
   "execution_count": null,
   "metadata": {},
   "outputs": [],
   "source": [
    "## DISPLAY WIDGETS AND DEFINE JOB PARAMETERS\n",
    "\n",
    "##STRUCTURE\n",
    "struct_browser = StructureBrowser()\n",
    "struct_browser.results.observe(set_modes, names='value') \n",
    "struct_browser.modes.observe(on_mode_change, names='value') \n",
    "\n",
    "\n",
    "##VIEWER\n",
    "viewer_widget = ViewerDetails()\n",
    "display(ipw.VBox([struct_browser, viewer_widget]))\n",
    "\n",
    "\n"
   ]
  }
 ],
 "metadata": {
  "kernelspec": {
   "display_name": "Python 2",
   "language": "python",
   "name": "python2"
  },
  "language_info": {
   "codemirror_mode": {
    "name": "ipython",
    "version": 2
   },
   "file_extension": ".py",
   "mimetype": "text/x-python",
   "name": "python",
   "nbconvert_exporter": "python",
   "pygments_lexer": "ipython2",
   "version": "2.7.15rc1"
  }
 },
 "nbformat": 4,
 "nbformat_minor": 2
}
