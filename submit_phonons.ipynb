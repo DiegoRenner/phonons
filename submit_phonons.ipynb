{
 "cells": [
  {
   "cell_type": "markdown",
   "metadata": {},
   "source": [
    "#  Submit Phonons Calculation"
   ]
  },
  {
   "cell_type": "code",
   "execution_count": 1,
   "metadata": {},
   "outputs": [],
   "source": [
    "%aiida\n",
    "from aiida import load_dbenv, is_dbenv_loaded\n",
    "from aiida.backends import settings\n",
    "if not is_dbenv_loaded():\n",
    "    load_dbenv(profile=settings.AIIDADB_PROFILE)\n",
    "\n",
    "from aiida.orm.code import Code\n",
    "from aiida.orm import load_node\n",
    "from aiida.orm import Code, Computer\n",
    "from aiida.orm.querybuilder import QueryBuilder\n",
    "from aiida.orm.data.base import Int, Float, Str, Bool\n",
    "from aiida.work.run import submit\n",
    "from aiida.orm.data.structure import StructureData\n",
    "\n",
    "import nglview\n",
    "import numpy as np\n",
    "import ipywidgets as ipw\n",
    "from collections import OrderedDict\n",
    "from IPython.display import display, clear_output, HTML\n",
    "import nglview\n",
    "\n",
    "from apps.surfaces.structure_browser import StructureBrowser\n",
    "from apps.surfaces.widgets.computer_code_selection import ComputerCodeDropdown\n",
    "from apps.surfaces.widgets.dft_details_dev import DFTDetails\n",
    "from apps.surfaces.widgets.viewer_details import ViewerDetails\n",
    "\n",
    "#from apps.surfaces.widgets.submit_leo import SubmitWorkChainWidget\n",
    "\n",
    "# Phonon specific import\n",
    "\n",
    "from apps.phonons.widgets.phonons_details import PHNSDetails\n",
    "from apps.phonons.widgets.slab_validity import slab_is_valid\n",
    "from apps.phonons.widgets.suggested_param import suggested_parameters\n",
    "from apps.phonons.widgets.submit_button_dev import SubmitButton\n",
    "from apps.phonons.phonons_work import PhononsWorkchain\n",
    "\n",
    "\n",
    "from ase.data import vdw_radii\n",
    "\n",
    "from apps.surfaces.widgets import find_mol\n"
   ]
  },
  {
   "cell_type": "code",
   "execution_count": 2,
   "metadata": {},
   "outputs": [
    {
     "data": {
      "application/javascript": [
       "IPython.OutputArea.prototype._should_scroll = function(lines) {\n",
       "    return false;\n",
       "}"
      ],
      "text/plain": [
       "<IPython.core.display.Javascript object>"
      ]
     },
     "metadata": {},
     "output_type": "display_data"
    }
   ],
   "source": [
    "%%javascript\n",
    "IPython.OutputArea.prototype._should_scroll = function(lines) {\n",
    "    return false;\n",
    "}"
   ]
  },
  {
   "cell_type": "code",
   "execution_count": 3,
   "metadata": {},
   "outputs": [],
   "source": [
    "## GENERAL PARAMETERS\n",
    "the_workchain=PhononsWorkchain\n",
    "job_details = {'workchain':'PhononsWorkchain'}\n",
    "job_details['calc_type']='Full DFT'\n",
    "job_details['num_machines']=1\n",
    "job_details['nreplicas']=1\n",
    "job_details['proc_node']=12\n",
    "job_details['nproc_rep']=job_details['nreplicas']*job_details['proc_node']\n",
    "job_details['ncalcs']=6000\n",
    "job_details['num_cores_per_mpiproc']=1"
   ]
  },
  {
   "cell_type": "code",
   "execution_count": 4,
   "metadata": {
    "scrolled": false
   },
   "outputs": [],
   "source": [
    "## WIDGETS MONITOR FUNCTIONS\n",
    "def on_struct_change(c):\n",
    "    \n",
    "    # check if structure has actually been selected\n",
    "    if not struct_browser.results.value:\n",
    "        return\n",
    "    \n",
    "    # update dictionary with selected structure\n",
    "    job_details['structure']=struct_browser.results.value\n",
    "    \n",
    "    # retrieve the node of the selected structure and get \n",
    "    # data in ase format using AiiDa framework\n",
    "    node = struct_browser.results.value\n",
    "    atoms = node.get_ase()\n",
    "    atoms.pbc = [1, 1, 1]\n",
    "    \n",
    "    # analyze structure \n",
    "    # using find_mol.analyze_slab()\n",
    "    slab_analyzed = find_mol.analyze_slab(atoms)\n",
    "    job_details['slab_analyzed'] = slab_analyzed\n",
    "\n",
    "    \n",
    "    # guess paramters based on analyzed structure\n",
    "    # usign suggested_parameters()\n",
    "    cell=job_details['slab_analyzed']['the_cell']\n",
    "    cell=str(cell[0][0])+' '+str(cell[1][1])+' '+str(cell[2][2])    \n",
    "    method = dft_details_widget.calc_type.value\n",
    "    valid_slab, msg = slab_is_valid(slab_analyzed,method)\n",
    "    if valid_slab:        \n",
    "        atoms_to_fix,num_nodes=suggested_parameters(slab_analyzed,\n",
    "                                                    method\n",
    "                                                   )\n",
    "        dft_details_widget.reset(fixed_atoms=atoms_to_fix,\n",
    "                                 num_machines=num_nodes,\n",
    "                                 calc_type=method, cell=cell\n",
    "                                )\n",
    "    else:\n",
    "        print(msg)\n",
    "        return\n",
    "    \n",
    "    # add more information to the dictionary\n",
    "    # number of calculations is 6 times the number of non-fixed atoms\n",
    "    job_details['elements'] = slab_analyzed['all_elements']\n",
    "    nfixed = get_nfixed(slab_analyzed)\n",
    "    job_details['ncalcs'] =  6*(len(atoms)-nfixed)\n",
    "    \n",
    "    # visualize selected structure\n",
    "    viewer_widget.setup(atoms,slab_analyzed)\n",
    "\n",
    "    # print summary of selected structure\n",
    "    with mol_ids_info_out:\n",
    "        clear_output()\n",
    "        print(slab_analyzed['summary'])\n",
    "\n",
    "def on_fixed_atoms_btn_click(c):\n",
    "    if dft_details_widget.btn_fixed_pressed:\n",
    "        viewer_widget.show_fixed(dft_details_widget.fixed_atoms.value)\n",
    "    else:\n",
    "        viewer_widget.show_fixed(\"\")\n",
    "        \n",
    "def guess_calc_params(c):\n",
    "    \n",
    "    \n",
    "    if not struct_browser.results.value:\n",
    "        return\n",
    "    \n",
    "    job_details['structure']=struct_browser.results.value\n",
    "    node = struct_browser.results.value\n",
    "    atoms = node.get_ase()\n",
    "    atoms.pbc = [1, 1, 1]\n",
    "    slab_analyzed = find_mol.analyze_slab(atoms)\n",
    "        \n",
    "    method = dft_details_widget.calc_type.value\n",
    "    valid_slab, msg = slab_is_valid(slab_analyzed,method)\n",
    "    \n",
    "    nfixed = get_nfixed(slab_analyzed)\n",
    "    job_details['ncalcs'] =  6*(len(atoms)-nfixed)\n",
    "    \n",
    "    if valid_slab: \n",
    "        \n",
    "        atoms_to_fix,num_nodes=suggested_parameters(slab_analyzed,\n",
    "                                                    method\n",
    "                                                   )\n",
    "        dft_details_widget.fixed_atoms.value=atoms_to_fix\n",
    "        dft_details_widget.num_machines.value=num_nodes\n",
    "        dft_details_widget.calc_type.value=method\n",
    "                               \n",
    "    else:\n",
    "        print(msg)\n",
    "        \n",
    "def update_nproc_rep(c):\n",
    "    num_nodes = dft_details_widget.num_machines.value\n",
    "    proc_node = phns_details_widget.proc_node.value\n",
    "    phns_details_widget.proc_rep.value=num_nodes*proc_node\n",
    "    phns_details_widget.tot_num_nodes.value=str(num_nodes*job_details['nreplicas'])\n",
    "    \n",
    "def get_nfixed(slab_analyzed):\n",
    "    method = dft_details_widget.calc_type.value\n",
    "    valid_slab, msg = slab_is_valid(slab_analyzed,method)\n",
    "    if method in ['Mixed DFTB', 'Mixed DFT']:\n",
    "        full_slab=slab_analyzed['slabatoms'] + slab_analyzed['bottom_H']\n",
    "        full_slab = [i for i in full_slab]\n",
    "        nfixed = len(full_slab)\n",
    "\n",
    "    if method in ['Full DFT']:\n",
    "        partial_slab = slab_analyzed['bottom_H'] + slab_analyzed['slab_layers'][0] + slab_analyzed['slab_layers'][1]\n",
    "        partial_slab = [i for i in partial_slab]\n",
    "        nfixed = len(partial_slab)\n",
    "    \n",
    "            \n",
    "    return nfixed\n",
    "            \n",
    "        \n",
    "# dealt with by submit button    \n",
    "#def valid_config():\n",
    "#    num_calcs = phns_details_widget.num_calcs.value\n",
    "#    num_rep = phns_details_widget.num_rep.value\n",
    "#    if not np.mod(num_calcs, num_rep)==0 :\n",
    "#        print('Choose #Replicas so that #Calculations % #Replicas is 0.')\n",
    "    "
   ]
  },
  {
   "cell_type": "code",
   "execution_count": 5,
   "metadata": {},
   "outputs": [
    {
     "data": {
      "application/vnd.jupyter.widget-view+json": {
       "model_id": "713f53959e09438dbbef81ddbc322fca",
       "version_major": 2,
       "version_minor": 0
      },
      "text/plain": [
       "VkJveChjaGlsZHJlbj0oU3RydWN0dXJlQnJvd3NlcihjaGlsZHJlbj0oVkJveChjaGlsZHJlbj0oVkJveChjaGlsZHJlbj0oSFRNTCh2YWx1ZT11JzxwPlNlbGVjdCB0aGUgZGF0ZSByYW5nZTrigKY=\n"
      ]
     },
     "metadata": {},
     "output_type": "display_data"
    },
    {
     "data": {
      "application/vnd.jupyter.widget-view+json": {
       "model_id": "aa041f66f00e4cc6b7216d3fd6b5c894",
       "version_major": 2,
       "version_minor": 0
      },
      "text/plain": [
       "VkJveChjaGlsZHJlbj0oQ29tcHV0ZXJDb2RlRHJvcGRvd24oY2hpbGRyZW49KFZCb3goY2hpbGRyZW49KExhYmVsKHZhbHVlPXUnU2VsZWN0IGNvbXB1dGVyJyksIERyb3Bkb3duKG9wdGlvbnPigKY=\n"
      ]
     },
     "metadata": {},
     "output_type": "display_data"
    },
    {
     "data": {
      "application/vnd.jupyter.widget-view+json": {
       "model_id": "82ad16a33af043aebaf7b86f61c2ef09",
       "version_major": 2,
       "version_minor": 0
      },
      "text/plain": [
       "U3VibWl0QnV0dG9uKGNoaWxkcmVuPShIQm94KGNoaWxkcmVuPShCdXR0b24oZGVzY3JpcHRpb249dSdTdWJtaXQnLCBzdHlsZT1CdXR0b25TdHlsZSgpKSwgSW50VGV4dCh2YWx1ZT04NjAwMCzigKY=\n"
      ]
     },
     "metadata": {},
     "output_type": "display_data"
    }
   ],
   "source": [
    "## DISPLAY WIDGETS AND DEFINE JOB PARAMETERS\n",
    "\n",
    "##STRUCTURE\n",
    "struct_browser = StructureBrowser()\n",
    "struct_browser.results.observe(on_struct_change, names='value') \n",
    "\n",
    "##VIEWER\n",
    "viewer_widget = ViewerDetails()\n",
    "mol_ids_info_out = ipw.Output()\n",
    "display(ipw.VBox([struct_browser, viewer_widget, mol_ids_info_out]))\n",
    "\n",
    "##CODE\n",
    "computer_code_dropdown = ComputerCodeDropdown(job_details=job_details,\n",
    "                                              input_plugin='cp2k'\n",
    "                                             )\n",
    "\n",
    "##DFT\n",
    "dft_details_widget = DFTDetails(job_details           = job_details,\n",
    "                                widgets_disabled      = {\n",
    "                                    'max_force' : True\n",
    "                                #   'calc_type'     : False,\n",
    "                                #    'center_switch' : False,\n",
    "                                #    'charge'        : False,\n",
    "                                #    'multiplicity'  : False,\n",
    "                                #    'uks_switch'    : False,\n",
    "                                #    'cell'          : False\n",
    "                                }\n",
    "                               )    \n",
    "dft_details_widget.btn_fixed_atoms.on_click(on_fixed_atoms_btn_click)\n",
    "dft_details_widget.calc_type.observe(guess_calc_params, \n",
    "                                     names='value'\n",
    "                                   )\n",
    "dft_details_widget.num_machines.observe(update_nproc_rep,\n",
    "                                        names='value'\n",
    "                                       )\n",
    "##PHONON\n",
    "phns_details_widget = PHNSDetails(job_details=job_details) \n",
    "phns_details_widget.proc_node.observe(update_nproc_rep,\n",
    "                                        names='value'\n",
    "                                     )\n",
    "phns_details_widget.num_rep.observe(update_nproc_rep,\n",
    "                                        names='value'\n",
    "                                     )\n",
    "\n",
    "# dealt with by submit button\n",
    "#phns_details_widget.num_rep.observe(lambda c: valid_config(),\n",
    "#                                        names='value'\n",
    "#                                       )\n",
    "#phns_details_widget.num_calcs.observe(lambda c: valid_config(),\n",
    "#                                        names='value'\n",
    "#                                       )\n",
    "\n",
    "#display code dropdown\n",
    "display(ipw.VBox([computer_code_dropdown, dft_details_widget, \n",
    "                  phns_details_widget]))\n",
    "\n",
    "#display submit button\n",
    "btn_submit = SubmitButton(\n",
    "    the_workchain=the_workchain,job_details=job_details,\n",
    "    presub_calls=[dft_details_widget.read_widgets_and_update_job_details]\n",
    ")\n",
    "display(btn_submit)\n",
    "\n",
    "#widget = SubmitWorkChainWidget(workchain=MoleculeOptWorkChain, validate_fn=validate_cp2k)\n",
    "#display(widget)"
   ]
  }
 ],
 "metadata": {
  "kernelspec": {
   "display_name": "Python 2",
   "language": "python",
   "name": "python2"
  },
  "language_info": {
   "codemirror_mode": {
    "name": "ipython",
    "version": 2
   },
   "file_extension": ".py",
   "mimetype": "text/x-python",
   "name": "python",
   "nbconvert_exporter": "python",
   "pygments_lexer": "ipython2",
   "version": "2.7.15rc1"
  }
 },
 "nbformat": 4,
 "nbformat_minor": 2
}
